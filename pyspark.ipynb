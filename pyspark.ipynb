{
 "cells": [
  {
   "cell_type": "code",
   "execution_count": 1,
   "id": "4c2634fb",
   "metadata": {
    "_cell_guid": "b1076dfc-b9ad-4769-8c92-a6c4dae69d19",
    "_uuid": "8f2839f25d086af736a60e9eeb907d3b93b6e0e5",
    "execution": {
     "iopub.execute_input": "2024-02-19T07:41:49.635154Z",
     "iopub.status.busy": "2024-02-19T07:41:49.634363Z",
     "iopub.status.idle": "2024-02-19T07:41:50.492523Z",
     "shell.execute_reply": "2024-02-19T07:41:50.490221Z"
    },
    "papermill": {
     "duration": 0.871402,
     "end_time": "2024-02-19T07:41:50.495634",
     "exception": false,
     "start_time": "2024-02-19T07:41:49.624232",
     "status": "completed"
    },
    "tags": []
   },
   "outputs": [
    {
     "name": "stdout",
     "output_type": "stream",
     "text": [
      "/kaggle/input/test1-xlsx/test1.xlsx\n"
     ]
    }
   ],
   "source": [
    "# This Python 3 environment comes with many helpful analytics libraries installed\n",
    "# It is defined by the kaggle/python Docker image: https://github.com/kaggle/docker-python\n",
    "# For example, here's several helpful packages to load\n",
    "\n",
    "import numpy as np # linear algebra\n",
    "import pandas as pd # data processing, CSV file I/O (e.g. pd.read_csv)\n",
    "\n",
    "# Input data files are available in the read-only \"../input/\" directory\n",
    "# For example, running this (by clicking run or pressing Shift+Enter) will list all files under the input directory\n",
    "\n",
    "import os\n",
    "for dirname, _, filenames in os.walk('/kaggle/input'):\n",
    "    for filename in filenames:\n",
    "        print(os.path.join(dirname, filename))\n",
    "\n",
    "# You can write up to 20GB to the current directory (/kaggle/working/) that gets preserved as output when you create a version using \"Save & Run All\" \n",
    "# You can also write temporary files to /kaggle/temp/, but they won't be saved outside of the current session"
   ]
  },
  {
   "cell_type": "code",
   "execution_count": 2,
   "id": "72e38a05",
   "metadata": {
    "execution": {
     "iopub.execute_input": "2024-02-19T07:41:50.513115Z",
     "iopub.status.busy": "2024-02-19T07:41:50.511856Z",
     "iopub.status.idle": "2024-02-19T07:42:42.004773Z",
     "shell.execute_reply": "2024-02-19T07:42:42.003572Z"
    },
    "papermill": {
     "duration": 51.503914,
     "end_time": "2024-02-19T07:42:42.007250",
     "exception": false,
     "start_time": "2024-02-19T07:41:50.503336",
     "status": "completed"
    },
    "tags": []
   },
   "outputs": [
    {
     "name": "stdout",
     "output_type": "stream",
     "text": [
      "Collecting pyspark\r\n",
      "  Downloading pyspark-3.5.0.tar.gz (316.9 MB)\r\n",
      "\u001b[2K     \u001b[90m━━━━━━━━━━━━━━━━━━━━━━━━━━━━━━━━━━━━━━━\u001b[0m \u001b[32m316.9/316.9 MB\u001b[0m \u001b[31m4.5 MB/s\u001b[0m eta \u001b[36m0:00:00\u001b[0m\r\n",
      "\u001b[?25h  Preparing metadata (setup.py) ... \u001b[?25l-\b \b\\\b \bdone\r\n",
      "\u001b[?25hRequirement already satisfied: py4j==0.10.9.7 in /opt/conda/lib/python3.10/site-packages (from pyspark) (0.10.9.7)\r\n",
      "Building wheels for collected packages: pyspark\r\n",
      "  Building wheel for pyspark (setup.py) ... \u001b[?25l-\b \b\\\b \b|\b \bdone\r\n",
      "\u001b[?25h  Created wheel for pyspark: filename=pyspark-3.5.0-py2.py3-none-any.whl size=317425345 sha256=82d2b7878496d99309fd6273974047bc867e35b552232dc19dc58c7587384a6d\r\n",
      "  Stored in directory: /root/.cache/pip/wheels/41/4e/10/c2cf2467f71c678cfc8a6b9ac9241e5e44a01940da8fbb17fc\r\n",
      "Successfully built pyspark\r\n",
      "Installing collected packages: pyspark\r\n",
      "Successfully installed pyspark-3.5.0\r\n"
     ]
    }
   ],
   "source": [
    "!pip install pyspark"
   ]
  },
  {
   "cell_type": "code",
   "execution_count": 3,
   "id": "00292391",
   "metadata": {
    "execution": {
     "iopub.execute_input": "2024-02-19T07:42:42.042203Z",
     "iopub.status.busy": "2024-02-19T07:42:42.041355Z",
     "iopub.status.idle": "2024-02-19T07:42:42.129588Z",
     "shell.execute_reply": "2024-02-19T07:42:42.128315Z"
    },
    "papermill": {
     "duration": 0.108984,
     "end_time": "2024-02-19T07:42:42.132459",
     "exception": false,
     "start_time": "2024-02-19T07:42:42.023475",
     "status": "completed"
    },
    "tags": []
   },
   "outputs": [],
   "source": [
    "import pyspark"
   ]
  },
  {
   "cell_type": "code",
   "execution_count": 4,
   "id": "5879c11c",
   "metadata": {
    "execution": {
     "iopub.execute_input": "2024-02-19T07:42:42.167410Z",
     "iopub.status.busy": "2024-02-19T07:42:42.167032Z",
     "iopub.status.idle": "2024-02-19T07:42:42.172530Z",
     "shell.execute_reply": "2024-02-19T07:42:42.171024Z"
    },
    "papermill": {
     "duration": 0.025901,
     "end_time": "2024-02-19T07:42:42.174765",
     "exception": false,
     "start_time": "2024-02-19T07:42:42.148864",
     "status": "completed"
    },
    "tags": []
   },
   "outputs": [],
   "source": [
    "import pandas as pd\n"
   ]
  },
  {
   "cell_type": "code",
   "execution_count": 5,
   "id": "b4a4e1fa",
   "metadata": {
    "execution": {
     "iopub.execute_input": "2024-02-19T07:42:42.207939Z",
     "iopub.status.busy": "2024-02-19T07:42:42.207530Z",
     "iopub.status.idle": "2024-02-19T07:42:42.578463Z",
     "shell.execute_reply": "2024-02-19T07:42:42.577287Z"
    },
    "papermill": {
     "duration": 0.390076,
     "end_time": "2024-02-19T07:42:42.580732",
     "exception": false,
     "start_time": "2024-02-19T07:42:42.190656",
     "status": "completed"
    },
    "tags": []
   },
   "outputs": [
    {
     "data": {
      "text/html": [
       "<div>\n",
       "<style scoped>\n",
       "    .dataframe tbody tr th:only-of-type {\n",
       "        vertical-align: middle;\n",
       "    }\n",
       "\n",
       "    .dataframe tbody tr th {\n",
       "        vertical-align: top;\n",
       "    }\n",
       "\n",
       "    .dataframe thead th {\n",
       "        text-align: right;\n",
       "    }\n",
       "</style>\n",
       "<table border=\"1\" class=\"dataframe\">\n",
       "  <thead>\n",
       "    <tr style=\"text-align: right;\">\n",
       "      <th></th>\n",
       "      <th>Name</th>\n",
       "      <th>Age</th>\n",
       "    </tr>\n",
       "  </thead>\n",
       "  <tbody>\n",
       "    <tr>\n",
       "      <th>0</th>\n",
       "      <td>Ksrish</td>\n",
       "      <td>31</td>\n",
       "    </tr>\n",
       "    <tr>\n",
       "      <th>1</th>\n",
       "      <td>Gkl</td>\n",
       "      <td>29</td>\n",
       "    </tr>\n",
       "    <tr>\n",
       "      <th>2</th>\n",
       "      <td>snny</td>\n",
       "      <td>22</td>\n",
       "    </tr>\n",
       "    <tr>\n",
       "      <th>3</th>\n",
       "      <td>bnny</td>\n",
       "      <td>52</td>\n",
       "    </tr>\n",
       "  </tbody>\n",
       "</table>\n",
       "</div>"
      ],
      "text/plain": [
       "     Name  Age\n",
       "0  Ksrish   31\n",
       "1     Gkl   29\n",
       "2    snny   22\n",
       "3    bnny   52"
      ]
     },
     "execution_count": 5,
     "metadata": {},
     "output_type": "execute_result"
    }
   ],
   "source": [
    "pd.read_excel('/kaggle/input/test1-xlsx/test1.xlsx')"
   ]
  },
  {
   "cell_type": "code",
   "execution_count": 6,
   "id": "1772242b",
   "metadata": {
    "execution": {
     "iopub.execute_input": "2024-02-19T07:42:42.614236Z",
     "iopub.status.busy": "2024-02-19T07:42:42.613701Z",
     "iopub.status.idle": "2024-02-19T07:42:42.619135Z",
     "shell.execute_reply": "2024-02-19T07:42:42.617953Z"
    },
    "papermill": {
     "duration": 0.024813,
     "end_time": "2024-02-19T07:42:42.621404",
     "exception": false,
     "start_time": "2024-02-19T07:42:42.596591",
     "status": "completed"
    },
    "tags": []
   },
   "outputs": [],
   "source": [
    "from pyspark.sql import SparkSession"
   ]
  },
  {
   "cell_type": "code",
   "execution_count": 7,
   "id": "af21444c",
   "metadata": {
    "execution": {
     "iopub.execute_input": "2024-02-19T07:42:42.654847Z",
     "iopub.status.busy": "2024-02-19T07:42:42.654377Z",
     "iopub.status.idle": "2024-02-19T07:42:48.742626Z",
     "shell.execute_reply": "2024-02-19T07:42:48.741556Z"
    },
    "papermill": {
     "duration": 6.108191,
     "end_time": "2024-02-19T07:42:48.745382",
     "exception": false,
     "start_time": "2024-02-19T07:42:42.637191",
     "status": "completed"
    },
    "tags": []
   },
   "outputs": [
    {
     "name": "stderr",
     "output_type": "stream",
     "text": [
      "Setting default log level to \"WARN\".\n",
      "To adjust logging level use sc.setLogLevel(newLevel). For SparkR, use setLogLevel(newLevel).\n",
      "24/02/19 07:42:46 WARN NativeCodeLoader: Unable to load native-hadoop library for your platform... using builtin-java classes where applicable\n"
     ]
    }
   ],
   "source": [
    "spark = SparkSession.builder.appName('Practise').getOrCreate()\n"
   ]
  },
  {
   "cell_type": "code",
   "execution_count": 8,
   "id": "d648a1b2",
   "metadata": {
    "execution": {
     "iopub.execute_input": "2024-02-19T07:42:48.779535Z",
     "iopub.status.busy": "2024-02-19T07:42:48.778997Z",
     "iopub.status.idle": "2024-02-19T07:42:50.029578Z",
     "shell.execute_reply": "2024-02-19T07:42:50.028308Z"
    },
    "papermill": {
     "duration": 1.272159,
     "end_time": "2024-02-19T07:42:50.033565",
     "exception": false,
     "start_time": "2024-02-19T07:42:48.761406",
     "status": "completed"
    },
    "tags": []
   },
   "outputs": [
    {
     "data": {
      "text/html": [
       "\n",
       "            <div>\n",
       "                <p><b>SparkSession - in-memory</b></p>\n",
       "                \n",
       "        <div>\n",
       "            <p><b>SparkContext</b></p>\n",
       "\n",
       "            <p><a href=\"http://92ea0615a818:4040\">Spark UI</a></p>\n",
       "\n",
       "            <dl>\n",
       "              <dt>Version</dt>\n",
       "                <dd><code>v3.5.0</code></dd>\n",
       "              <dt>Master</dt>\n",
       "                <dd><code>local[*]</code></dd>\n",
       "              <dt>AppName</dt>\n",
       "                <dd><code>Practise</code></dd>\n",
       "            </dl>\n",
       "        </div>\n",
       "        \n",
       "            </div>\n",
       "        "
      ],
      "text/plain": [
       "<pyspark.sql.session.SparkSession at 0x7e4be114e230>"
      ]
     },
     "execution_count": 8,
     "metadata": {},
     "output_type": "execute_result"
    }
   ],
   "source": [
    "spark"
   ]
  },
  {
   "cell_type": "code",
   "execution_count": 9,
   "id": "19c2a2fb",
   "metadata": {
    "execution": {
     "iopub.execute_input": "2024-02-19T07:42:50.073996Z",
     "iopub.status.busy": "2024-02-19T07:42:50.073563Z",
     "iopub.status.idle": "2024-02-19T07:42:50.078157Z",
     "shell.execute_reply": "2024-02-19T07:42:50.077027Z"
    },
    "papermill": {
     "duration": 0.025279,
     "end_time": "2024-02-19T07:42:50.080739",
     "exception": false,
     "start_time": "2024-02-19T07:42:50.055460",
     "status": "completed"
    },
    "tags": []
   },
   "outputs": [],
   "source": [
    "#df= spark.read.format(\"com.crealytics.spark.excel\").option(\"header\", \"true\").load(\"/kaggle/input/test1-xlsx/test1.xlsx\") "
   ]
  },
  {
   "cell_type": "code",
   "execution_count": 10,
   "id": "f1b3d7be",
   "metadata": {
    "execution": {
     "iopub.execute_input": "2024-02-19T07:42:50.116856Z",
     "iopub.status.busy": "2024-02-19T07:42:50.115651Z",
     "iopub.status.idle": "2024-02-19T07:42:50.120622Z",
     "shell.execute_reply": "2024-02-19T07:42:50.119886Z"
    },
    "papermill": {
     "duration": 0.025546,
     "end_time": "2024-02-19T07:42:50.122741",
     "exception": false,
     "start_time": "2024-02-19T07:42:50.097195",
     "status": "completed"
    },
    "tags": []
   },
   "outputs": [],
   "source": [
    "# df.printSchema()"
   ]
  },
  {
   "cell_type": "markdown",
   "id": "25f60042",
   "metadata": {
    "execution": {
     "iopub.execute_input": "2024-02-19T06:11:46.446462Z",
     "iopub.status.busy": "2024-02-19T06:11:46.444795Z",
     "iopub.status.idle": "2024-02-19T06:11:46.452355Z",
     "shell.execute_reply": "2024-02-19T06:11:46.450679Z",
     "shell.execute_reply.started": "2024-02-19T06:11:46.446400Z"
    },
    "papermill": {
     "duration": 0.016035,
     "end_time": "2024-02-19T07:42:50.155108",
     "exception": false,
     "start_time": "2024-02-19T07:42:50.139073",
     "status": "completed"
    },
    "tags": []
   },
   "source": [
    "##### # Pyspark day 2\n",
    "\n",
    "\n",
    "#In this day2 we will cover:\n",
    "    \n",
    "    \n",
    "1.\n",
    "2.Pyspark data frame\n",
    "\n",
    "3.Read data set\n",
    "\n",
    "4.check datatypes\n",
    "\n",
    "5.Select columns\n",
    "\n",
    "5. chck description\n",
    "\n",
    "\n",
    "6. Add columns\n",
    "\n",
    "7.drpping comlumns\n",
    "\n",
    "\n",
    "\n",
    "\n",
    "\n",
    "\n",
    "\n",
    "\n",
    "\n",
    "\n",
    "\n",
    "\n",
    "\n",
    "\n",
    "\n",
    "\n",
    "\n",
    "\n",
    "\n",
    "\n",
    "\n",
    "\n"
   ]
  },
  {
   "cell_type": "code",
   "execution_count": 11,
   "id": "3b049c53",
   "metadata": {
    "execution": {
     "iopub.execute_input": "2024-02-19T07:42:50.189768Z",
     "iopub.status.busy": "2024-02-19T07:42:50.189032Z",
     "iopub.status.idle": "2024-02-19T07:42:50.193532Z",
     "shell.execute_reply": "2024-02-19T07:42:50.192741Z"
    },
    "papermill": {
     "duration": 0.024232,
     "end_time": "2024-02-19T07:42:50.195622",
     "exception": false,
     "start_time": "2024-02-19T07:42:50.171390",
     "status": "completed"
    },
    "tags": []
   },
   "outputs": [],
   "source": [
    "#read the datset:\n",
    "\n",
    "#df_pyspark = spark.read.option('header','true').csv('test.csv,inferSchema = True)"
   ]
  },
  {
   "cell_type": "code",
   "execution_count": 12,
   "id": "8b5d5455",
   "metadata": {
    "execution": {
     "iopub.execute_input": "2024-02-19T07:42:50.230361Z",
     "iopub.status.busy": "2024-02-19T07:42:50.229510Z",
     "iopub.status.idle": "2024-02-19T07:42:50.234234Z",
     "shell.execute_reply": "2024-02-19T07:42:50.233372Z"
    },
    "papermill": {
     "duration": 0.024174,
     "end_time": "2024-02-19T07:42:50.236293",
     "exception": false,
     "start_time": "2024-02-19T07:42:50.212119",
     "status": "completed"
    },
    "tags": []
   },
   "outputs": [],
   "source": [
    "#df_pyspark.printSchema()"
   ]
  },
  {
   "cell_type": "code",
   "execution_count": 13,
   "id": "e9792d51",
   "metadata": {
    "execution": {
     "iopub.execute_input": "2024-02-19T07:42:50.270950Z",
     "iopub.status.busy": "2024-02-19T07:42:50.270366Z",
     "iopub.status.idle": "2024-02-19T07:42:50.274578Z",
     "shell.execute_reply": "2024-02-19T07:42:50.273830Z"
    },
    "papermill": {
     "duration": 0.025232,
     "end_time": "2024-02-19T07:42:50.277698",
     "exception": false,
     "start_time": "2024-02-19T07:42:50.252466",
     "status": "completed"
    },
    "tags": []
   },
   "outputs": [],
   "source": [
    "#df_pyspark.select('Name')\n",
    "\n",
    "#df_pyspark.select(['name',['Age']]).show\n",
    "\n",
    "#df_pyspark['name']\n",
    "\n",
    "#df_pyspark.dtypes()\n",
    "\n",
    "#df_pysprk.describe"
   ]
  },
  {
   "cell_type": "code",
   "execution_count": 14,
   "id": "24b624a0",
   "metadata": {
    "execution": {
     "iopub.execute_input": "2024-02-19T07:42:50.318998Z",
     "iopub.status.busy": "2024-02-19T07:42:50.318403Z",
     "iopub.status.idle": "2024-02-19T07:42:50.323573Z",
     "shell.execute_reply": "2024-02-19T07:42:50.322302Z"
    },
    "papermill": {
     "duration": 0.026115,
     "end_time": "2024-02-19T07:42:50.325798",
     "exception": false,
     "start_time": "2024-02-19T07:42:50.299683",
     "status": "completed"
    },
    "tags": []
   },
   "outputs": [],
   "source": [
    "#### Addding columns in data frames \n",
    "\n",
    "#df_pysrak.withColmnn('Experience')\n",
    "#df_pysrak.withColmnn('Experience after 2',df_pyspark['experience']+2)"
   ]
  },
  {
   "cell_type": "code",
   "execution_count": 15,
   "id": "cc3581d6",
   "metadata": {
    "execution": {
     "iopub.execute_input": "2024-02-19T07:42:50.363346Z",
     "iopub.status.busy": "2024-02-19T07:42:50.362357Z",
     "iopub.status.idle": "2024-02-19T07:42:50.368226Z",
     "shell.execute_reply": "2024-02-19T07:42:50.366121Z"
    },
    "papermill": {
     "duration": 0.028189,
     "end_time": "2024-02-19T07:42:50.371255",
     "exception": false,
     "start_time": "2024-02-19T07:42:50.343066",
     "status": "completed"
    },
    "tags": []
   },
   "outputs": [],
   "source": [
    "### Dropping the columns\n",
    "\n",
    "\n",
    "# df_pyspark.drop('Experiance after 2'...)\n",
    "\n",
    "# df.pyspark.show()"
   ]
  },
  {
   "cell_type": "code",
   "execution_count": 16,
   "id": "db787380",
   "metadata": {
    "execution": {
     "iopub.execute_input": "2024-02-19T07:42:50.408650Z",
     "iopub.status.busy": "2024-02-19T07:42:50.407770Z",
     "iopub.status.idle": "2024-02-19T07:42:50.412362Z",
     "shell.execute_reply": "2024-02-19T07:42:50.411374Z"
    },
    "papermill": {
     "duration": 0.02593,
     "end_time": "2024-02-19T07:42:50.414625",
     "exception": false,
     "start_time": "2024-02-19T07:42:50.388695",
     "status": "completed"
    },
    "tags": []
   },
   "outputs": [],
   "source": [
    "#### Rename the columns\n",
    "\n",
    "#df_pyspark.withColumnRenamed('Name','New Name').show()\n"
   ]
  },
  {
   "cell_type": "markdown",
   "id": "44a666ac",
   "metadata": {
    "execution": {
     "iopub.execute_input": "2024-02-19T06:37:37.583771Z",
     "iopub.status.busy": "2024-02-19T06:37:37.582652Z",
     "iopub.status.idle": "2024-02-19T06:37:37.596295Z",
     "shell.execute_reply": "2024-02-19T06:37:37.594202Z",
     "shell.execute_reply.started": "2024-02-19T06:37:37.583728Z"
    },
    "papermill": {
     "duration": 0.015961,
     "end_time": "2024-02-19T07:42:50.447736",
     "exception": false,
     "start_time": "2024-02-19T07:42:50.431775",
     "status": "completed"
    },
    "tags": []
   },
   "source": [
    "### Day3 Pyspark Handling missing value\n",
    "\n",
    "1. dropping columns\n",
    "2. dropping rows\n",
    "3. Parameters in dropping functionalities\n",
    "4. Misising value mean median and Mode"
   ]
  },
  {
   "cell_type": "code",
   "execution_count": 17,
   "id": "e0f4529d",
   "metadata": {
    "execution": {
     "iopub.execute_input": "2024-02-19T07:42:50.483193Z",
     "iopub.status.busy": "2024-02-19T07:42:50.482445Z",
     "iopub.status.idle": "2024-02-19T07:42:50.486333Z",
     "shell.execute_reply": "2024-02-19T07:42:50.485521Z"
    },
    "papermill": {
     "duration": 0.024428,
     "end_time": "2024-02-19T07:42:50.488771",
     "exception": false,
     "start_time": "2024-02-19T07:42:50.464343",
     "status": "completed"
    },
    "tags": []
   },
   "outputs": [],
   "source": [
    "\n",
    "#Mo  code   - further reading\n",
    "\n",
    "# from pyspark.sql.functions import colfrom pyspark.sql.types import StringType,BooleanType,DateType\n",
    "# df2 = df.withColumn(\"age\",col(\"age\").cast(StringType()))"
   ]
  },
  {
   "cell_type": "code",
   "execution_count": 18,
   "id": "2a9b12c5",
   "metadata": {
    "execution": {
     "iopub.execute_input": "2024-02-19T07:42:50.526584Z",
     "iopub.status.busy": "2024-02-19T07:42:50.525841Z",
     "iopub.status.idle": "2024-02-19T07:42:50.530714Z",
     "shell.execute_reply": "2024-02-19T07:42:50.529388Z"
    },
    "papermill": {
     "duration": 0.026901,
     "end_time": "2024-02-19T07:42:50.533213",
     "exception": false,
     "start_time": "2024-02-19T07:42:50.506312",
     "status": "completed"
    },
    "tags": []
   },
   "outputs": [],
   "source": [
    "#dypy = spark.read.csv('test.csv',header = True, inferSchema= True).show()"
   ]
  },
  {
   "cell_type": "code",
   "execution_count": 19,
   "id": "b7e7f3f1",
   "metadata": {
    "execution": {
     "iopub.execute_input": "2024-02-19T07:42:50.569204Z",
     "iopub.status.busy": "2024-02-19T07:42:50.568784Z",
     "iopub.status.idle": "2024-02-19T07:42:50.573101Z",
     "shell.execute_reply": "2024-02-19T07:42:50.571984Z"
    },
    "papermill": {
     "duration": 0.02514,
     "end_time": "2024-02-19T07:42:50.575452",
     "exception": false,
     "start_time": "2024-02-19T07:42:50.550312",
     "status": "completed"
    },
    "tags": []
   },
   "outputs": [],
   "source": [
    "#dypy.drop('Name').show()"
   ]
  },
  {
   "cell_type": "code",
   "execution_count": 20,
   "id": "310df6a7",
   "metadata": {
    "execution": {
     "iopub.execute_input": "2024-02-19T07:42:50.611144Z",
     "iopub.status.busy": "2024-02-19T07:42:50.610758Z",
     "iopub.status.idle": "2024-02-19T07:42:50.614478Z",
     "shell.execute_reply": "2024-02-19T07:42:50.613648Z"
    },
    "papermill": {
     "duration": 0.024325,
     "end_time": "2024-02-19T07:42:50.616737",
     "exception": false,
     "start_time": "2024-02-19T07:42:50.592412",
     "status": "completed"
    },
    "tags": []
   },
   "outputs": [],
   "source": [
    "# Rows with NA remove\n",
    "\n",
    "#dypy.na.drop().show()"
   ]
  },
  {
   "cell_type": "code",
   "execution_count": 21,
   "id": "e6d8b562",
   "metadata": {
    "execution": {
     "iopub.execute_input": "2024-02-19T07:42:50.740340Z",
     "iopub.status.busy": "2024-02-19T07:42:50.739938Z",
     "iopub.status.idle": "2024-02-19T07:42:50.743914Z",
     "shell.execute_reply": "2024-02-19T07:42:50.743184Z"
    },
    "papermill": {
     "duration": 0.025504,
     "end_time": "2024-02-19T07:42:50.745981",
     "exception": false,
     "start_time": "2024-02-19T07:42:50.720477",
     "status": "completed"
    },
    "tags": []
   },
   "outputs": [],
   "source": [
    "### any = how\n",
    "\n",
    "\n",
    "#dypy.na.drop(how='all').show()\n",
    "\n",
    "#dypy.na.drop(how='any').show()"
   ]
  },
  {
   "cell_type": "code",
   "execution_count": 22,
   "id": "58489447",
   "metadata": {
    "execution": {
     "iopub.execute_input": "2024-02-19T07:42:50.783636Z",
     "iopub.status.busy": "2024-02-19T07:42:50.782438Z",
     "iopub.status.idle": "2024-02-19T07:42:50.787279Z",
     "shell.execute_reply": "2024-02-19T07:42:50.786206Z"
    },
    "papermill": {
     "duration": 0.026675,
     "end_time": "2024-02-19T07:42:50.789424",
     "exception": false,
     "start_time": "2024-02-19T07:42:50.762749",
     "status": "completed"
    },
    "tags": []
   },
   "outputs": [],
   "source": [
    "# Threshhold\n",
    "\n",
    "#dypy.na.drop(how='any', thresh = 2).show()"
   ]
  },
  {
   "cell_type": "code",
   "execution_count": 23,
   "id": "0c547c35",
   "metadata": {
    "execution": {
     "iopub.execute_input": "2024-02-19T07:42:50.825434Z",
     "iopub.status.busy": "2024-02-19T07:42:50.824807Z",
     "iopub.status.idle": "2024-02-19T07:42:50.828749Z",
     "shell.execute_reply": "2024-02-19T07:42:50.827611Z"
    },
    "papermill": {
     "duration": 0.025057,
     "end_time": "2024-02-19T07:42:50.831381",
     "exception": false,
     "start_time": "2024-02-19T07:42:50.806324",
     "status": "completed"
    },
    "tags": []
   },
   "outputs": [],
   "source": [
    "# Subset\n",
    "\n",
    "#dypy.na.drop(how='any', subset = ['Experience']).show()"
   ]
  },
  {
   "cell_type": "code",
   "execution_count": 24,
   "id": "8cf2f3d9",
   "metadata": {
    "execution": {
     "iopub.execute_input": "2024-02-19T07:42:50.869895Z",
     "iopub.status.busy": "2024-02-19T07:42:50.868768Z",
     "iopub.status.idle": "2024-02-19T07:42:50.873430Z",
     "shell.execute_reply": "2024-02-19T07:42:50.872514Z"
    },
    "papermill": {
     "duration": 0.027073,
     "end_time": "2024-02-19T07:42:50.875623",
     "exception": false,
     "start_time": "2024-02-19T07:42:50.848550",
     "status": "completed"
    },
    "tags": []
   },
   "outputs": [],
   "source": [
    "### Filling missing value\n",
    "\n",
    "\n",
    "# dypy.na.fill('Misisng Values').show()\n",
    "\n",
    "# dypy.na.drop('Missing Values', ['Experience','Age']),show()"
   ]
  },
  {
   "cell_type": "code",
   "execution_count": 25,
   "id": "db159b31",
   "metadata": {
    "execution": {
     "iopub.execute_input": "2024-02-19T07:42:50.913146Z",
     "iopub.status.busy": "2024-02-19T07:42:50.911784Z",
     "iopub.status.idle": "2024-02-19T07:42:51.407044Z",
     "shell.execute_reply": "2024-02-19T07:42:51.405447Z"
    },
    "papermill": {
     "duration": 0.516895,
     "end_time": "2024-02-19T07:42:51.409782",
     "exception": false,
     "start_time": "2024-02-19T07:42:50.892887",
     "status": "completed"
    },
    "tags": []
   },
   "outputs": [],
   "source": [
    "### Handling with mean or median\n",
    "from pyspark.ml.feature import Imputer\n",
    "\n",
    "imputer = Imputer(\n",
    "    inputCols=['Age','Experiance','Salary'],\n",
    "    outputCols = [\"{}_imputed\".format(c) for c in ['Age', 'Experience','Salary']]\n",
    "    ).setStrategy(\"mean\")"
   ]
  },
  {
   "cell_type": "code",
   "execution_count": 26,
   "id": "7d49d36c",
   "metadata": {
    "execution": {
     "iopub.execute_input": "2024-02-19T07:42:51.445071Z",
     "iopub.status.busy": "2024-02-19T07:42:51.444617Z",
     "iopub.status.idle": "2024-02-19T07:42:51.449638Z",
     "shell.execute_reply": "2024-02-19T07:42:51.448310Z"
    },
    "papermill": {
     "duration": 0.025762,
     "end_time": "2024-02-19T07:42:51.452539",
     "exception": false,
     "start_time": "2024-02-19T07:42:51.426777",
     "status": "completed"
    },
    "tags": []
   },
   "outputs": [],
   "source": [
    "#imputer.fit(df_pyspark).tarnsform(df_pyspark).show()"
   ]
  },
  {
   "cell_type": "code",
   "execution_count": null,
   "id": "cd9e3ac2",
   "metadata": {
    "papermill": {
     "duration": 0.01618,
     "end_time": "2024-02-19T07:42:51.484981",
     "exception": false,
     "start_time": "2024-02-19T07:42:51.468801",
     "status": "completed"
    },
    "tags": []
   },
   "outputs": [],
   "source": []
  }
 ],
 "metadata": {
  "kaggle": {
   "accelerator": "none",
   "dataSources": [
    {
     "datasetId": 4461879,
     "sourceId": 7653466,
     "sourceType": "datasetVersion"
    }
   ],
   "dockerImageVersionId": 30646,
   "isGpuEnabled": false,
   "isInternetEnabled": true,
   "language": "python",
   "sourceType": "notebook"
  },
  "kernelspec": {
   "display_name": "Python 3",
   "language": "python",
   "name": "python3"
  },
  "language_info": {
   "codemirror_mode": {
    "name": "ipython",
    "version": 3
   },
   "file_extension": ".py",
   "mimetype": "text/x-python",
   "name": "python",
   "nbconvert_exporter": "python",
   "pygments_lexer": "ipython3",
   "version": "3.10.13"
  },
  "papermill": {
   "default_parameters": {},
   "duration": 67.496274,
   "end_time": "2024-02-19T07:42:54.122805",
   "environment_variables": {},
   "exception": null,
   "input_path": "__notebook__.ipynb",
   "output_path": "__notebook__.ipynb",
   "parameters": {},
   "start_time": "2024-02-19T07:41:46.626531",
   "version": "2.5.0"
  }
 },
 "nbformat": 4,
 "nbformat_minor": 5
}
